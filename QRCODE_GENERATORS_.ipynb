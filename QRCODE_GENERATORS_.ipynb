{
  "nbformat": 4,
  "nbformat_minor": 0,
  "metadata": {
    "colab": {
      "name": "QRCODE_GENERATORS .ipynb",
      "provenance": [],
      "authorship_tag": "ABX9TyPAAslCHg7De8endgK0LvHw"
    },
    "kernelspec": {
      "name": "python3",
      "display_name": "Python 3"
    },
    "language_info": {
      "name": "python"
    }
  },
  "cells": [
    {
      "cell_type": "code",
      "execution_count": 13,
      "metadata": {
        "colab": {
          "base_uri": "https://localhost:8080/"
        },
        "id": "n4i1fbhcolEm",
        "outputId": "5a217f0c-65a1-4a66-918b-c7c29327e97f"
      },
      "outputs": [
        {
          "output_type": "stream",
          "name": "stdout",
          "text": [
            "Looking in indexes: https://pypi.org/simple, https://us-python.pkg.dev/colab-wheels/public/simple/\n",
            "Requirement already satisfied: qrcode in /usr/local/lib/python3.7/dist-packages (7.3.1)\n"
          ]
        }
      ],
      "source": [
        "pip install qrcode"
      ]
    },
    {
      "cell_type": "code",
      "source": [
        "import qrcode\n",
        "name = input('Enter you name: ')\n",
        "link = input('Enter you link: ')"
      ],
      "metadata": {
        "colab": {
          "base_uri": "https://localhost:8080/"
        },
        "id": "9J-Jdyhqo1Up",
        "outputId": "e884d3dd-59aa-40f4-d68f-deaf0de50b57"
      },
      "execution_count": 14,
      "outputs": [
        {
          "name": "stdout",
          "output_type": "stream",
          "text": [
            "Enter you name: vidhinpatel\n",
            "Enter you link: https://linktr.ee/Vidhin_1208\n"
          ]
        }
      ]
    },
    {
      "cell_type": "code",
      "source": [
        "input_URL = link #\"https://linktr.ee/Vidhin_1208\"\n",
        "qr = qrcode.QRCode(\n",
        "    version=1,\n",
        "    error_correction=qrcode.constants.ERROR_CORRECT_L,\n",
        "    box_size=15,\n",
        "    border=4,\n",
        ")\n",
        "\n",
        "qr.add_data(input_URL)\n",
        "qr.make(fit=True)\n",
        "\n",
        "img = qr.make_image(fill_color=\"black\", back_color=\"white\")\n",
        "img.save(name+'_qr.png')\n",
        "# print(img)\n",
        "# print(qr.data_list)"
      ],
      "metadata": {
        "id": "mcd8oWZ3o4hu"
      },
      "execution_count": 16,
      "outputs": []
    }
  ]
}